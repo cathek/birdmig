{
  "cells": [
    {
      "cell_type": "code",
      "execution_count": 3,
      "metadata": {
        "colab": {
          "base_uri": "https://localhost:8080/"
        },
        "id": "iYvAuReskJ81",
        "outputId": "33dcdf8b-f2fb-4e9b-de16-dd1a2810f1bb"
      },
      "outputs": [
        {
          "name": "stdout",
          "output_type": "stream",
          "text": [
            "Requirement already satisfied: geopandas in c:\\users\\marche\\anaconda3\\lib\\site-packages (0.14.3)\n",
            "Requirement already satisfied: pandas in c:\\users\\marche\\anaconda3\\lib\\site-packages (2.1.1)\n",
            "Requirement already satisfied: fiona>=1.8.21 in c:\\users\\marche\\anaconda3\\lib\\site-packages (from geopandas) (1.9.5)\n",
            "Requirement already satisfied: packaging in c:\\users\\marche\\anaconda3\\lib\\site-packages (from geopandas) (23.1)\n",
            "Requirement already satisfied: pyproj>=3.3.0 in c:\\users\\marche\\anaconda3\\lib\\site-packages (from geopandas) (3.6.1)\n",
            "Requirement already satisfied: shapely>=1.8.0 in c:\\users\\marche\\anaconda3\\lib\\site-packages (from geopandas) (2.0.3)\n",
            "Requirement already satisfied: numpy>=1.23.2 in c:\\users\\marche\\anaconda3\\lib\\site-packages (from pandas) (1.24.3)\n",
            "Requirement already satisfied: python-dateutil>=2.8.2 in c:\\users\\marche\\anaconda3\\lib\\site-packages (from pandas) (2.8.2)\n",
            "Requirement already satisfied: pytz>=2020.1 in c:\\users\\marche\\anaconda3\\lib\\site-packages (from pandas) (2023.3.post1)\n",
            "Requirement already satisfied: tzdata>=2022.1 in c:\\users\\marche\\anaconda3\\lib\\site-packages (from pandas) (2023.3)\n",
            "Requirement already satisfied: attrs>=19.2.0 in c:\\users\\marche\\anaconda3\\lib\\site-packages (from fiona>=1.8.21->geopandas) (23.1.0)\n",
            "Requirement already satisfied: certifi in c:\\users\\marche\\anaconda3\\lib\\site-packages (from fiona>=1.8.21->geopandas) (2023.11.17)\n",
            "Requirement already satisfied: click~=8.0 in c:\\users\\marche\\anaconda3\\lib\\site-packages (from fiona>=1.8.21->geopandas) (8.1.7)\n",
            "Requirement already satisfied: click-plugins>=1.0 in c:\\users\\marche\\anaconda3\\lib\\site-packages (from fiona>=1.8.21->geopandas) (1.1.1)\n",
            "Requirement already satisfied: cligj>=0.5 in c:\\users\\marche\\anaconda3\\lib\\site-packages (from fiona>=1.8.21->geopandas) (0.7.2)\n",
            "Requirement already satisfied: six in c:\\users\\marche\\anaconda3\\lib\\site-packages (from fiona>=1.8.21->geopandas) (1.16.0)\n",
            "Requirement already satisfied: setuptools in c:\\users\\marche\\anaconda3\\lib\\site-packages (from fiona>=1.8.21->geopandas) (68.0.0)\n",
            "Requirement already satisfied: colorama in c:\\users\\marche\\anaconda3\\lib\\site-packages (from click~=8.0->fiona>=1.8.21->geopandas) (0.4.6)\n",
            "Note: you may need to restart the kernel to use updated packages.\n"
          ]
        }
      ],
      "source": [
        "%pip install geopandas pandas"
      ]
    },
    {
      "cell_type": "markdown",
      "metadata": {
        "id": "BCaO8608TS5n"
      },
      "source": [
        "# Dataset Preprocessing"
      ]
    },
    {
      "cell_type": "markdown",
      "metadata": {
        "id": "NKa6uiiQ7CSa"
      },
      "source": [
        "### 1. Load CSV"
      ]
    },
    {
      "cell_type": "code",
      "execution_count": 28,
      "metadata": {
        "id": "gjFwX8E35whg"
      },
      "outputs": [
        {
          "name": "stderr",
          "output_type": "stream",
          "text": [
            "C:\\Users\\marche\\AppData\\Local\\Temp\\ipykernel_16428\\1373675703.py:6: DtypeWarning: Columns (10,14,19,23,24,25,39,40,41,43,45,46,48) have mixed types. Specify dtype option on import or set low_memory=False.\n",
            "  df = pd.read_csv(f\"data/{filename}\", sep='\\t', lineterminator='\\n')\n"
          ]
        }
      ],
      "source": [
        "import pandas as pd\n",
        "import os\n",
        "import geopandas as gpd\n",
        "\n",
        "filename = \"GBIF_CardellinaPusilla.csv\"\n",
        "df = pd.read_csv(f\"data/{filename}\", sep='\\t', lineterminator='\\n')"
      ]
    },
    {
      "cell_type": "markdown",
      "metadata": {},
      "source": [
        "### 2. Remove and rename columns from CSV"
      ]
    },
    {
      "cell_type": "code",
      "execution_count": 33,
      "metadata": {},
      "outputs": [
        {
          "name": "stdout",
          "output_type": "stream",
          "text": [
            "Raw Column Headers: ['gbifID', 'datasetKey', 'occurrenceID', 'kingdom', 'phylum', 'class', 'order', 'family', 'genus', 'species', 'infraspecificEpithet', 'taxonRank', 'scientificName', 'verbatimScientificName', 'verbatimScientificNameAuthorship', 'countryCode', 'locality', 'stateProvince', 'occurrenceStatus', 'individualCount', 'publishingOrgKey', 'decimalLatitude', 'decimalLongitude', 'coordinateUncertaintyInMeters', 'coordinatePrecision', 'elevation', 'elevationAccuracy', 'depth', 'depthAccuracy', 'eventDate', 'day', 'month', 'year', 'taxonKey', 'speciesKey', 'basisOfRecord', 'institutionCode', 'collectionCode', 'catalogNumber', 'recordNumber', 'identifiedBy', 'dateIdentified', 'license', 'rightsHolder', 'recordedBy', 'typeStatus', 'establishmentMeans', 'lastInterpreted', 'mediaType', 'issue']\n",
            "\n",
            "Trimmed Column Headers: ['occurrenceID', 'basisOfRecord', 'eventDate', 'kingdom', 'scientificName', 'taxonRank', 'decimalLatitude', 'decimalLongitude', 'countryCode', 'individualCount']\n",
            "Renamed Column Headers: ['occID', 'basis', 'eventDate', 'kingdom', 'sciName', 'taxonRank', 'lat', 'lon', 'country', 'indivCount']\n"
          ]
        }
      ],
      "source": [
        "# Get the list of all column names from headers\n",
        "column_headers = list(df.columns.values)\n",
        "print(\"Raw Column Headers:\", column_headers)\n",
        "\n",
        "use_cols = ['occurrenceID', 'basisOfRecord', 'eventDate', 'kingdom', 'scientificName', 'taxonRank', 'decimalLatitude', 'decimalLongitude', 'countryCode', 'individualCount']\n",
        "df_trim = df[use_cols]\n",
        "\n",
        "column_headers = list(df_trim.columns.values)\n",
        "print(\"\\nTrimmed Column Headers:\", column_headers)\n",
        "\n",
        "# Rename for shapefile 10 character header limit\n",
        "df_shp = df_trim.rename(columns={'occurrenceID': 'occID', 'basisOfRecord': 'basis', 'scientificName' : 'sciName', 'decimalLatitude' : 'lat', 'decimalLongitude' : 'lon', 'countryCode' : 'country', 'individualCount' : 'indivCount'})\n",
        "\n",
        "column_headers = list(df_shp.columns.values)\n",
        "print(\"Renamed Column Headers:\", column_headers)"
      ]
    },
    {
      "cell_type": "markdown",
      "metadata": {},
      "source": [
        "### 3. Create geopandas dataframe"
      ]
    },
    {
      "cell_type": "code",
      "execution_count": 34,
      "metadata": {
        "colab": {
          "base_uri": "https://localhost:8080/",
          "height": 616
        },
        "id": "oPRB27oUqRTF",
        "outputId": "7458c0d4-c8d2-497b-862b-a3b35892ab2b"
      },
      "outputs": [
        {
          "name": "stdout",
          "output_type": "stream",
          "text": [
            "                                               occID              basis  \\\n",
            "0  https://www.inaturalist.org/observations/13947...  HUMAN_OBSERVATION   \n",
            "1  https://www.inaturalist.org/observations/10616...  HUMAN_OBSERVATION   \n",
            "2  https://www.inaturalist.org/observations/11843...  HUMAN_OBSERVATION   \n",
            "3  https://www.inaturalist.org/observations/34513725  HUMAN_OBSERVATION   \n",
            "4  https://www.inaturalist.org/observations/12732366  HUMAN_OBSERVATION   \n",
            "\n",
            "          eventDate   kingdom                              sciName taxonRank  \\\n",
            "0  2022-09-28T12:24  Animalia  Cardellina pusilla (A.Wilson, 1811)   SPECIES   \n",
            "1  2021-09-30T12:45  Animalia  Cardellina pusilla (A.Wilson, 1811)   SPECIES   \n",
            "2  2022-05-23T20:54  Animalia  Cardellina pusilla (A.Wilson, 1811)   SPECIES   \n",
            "3  2019-09-21T10:58  Animalia  Cardellina pusilla (A.Wilson, 1811)   SPECIES   \n",
            "4  2018-05-20T08:13  Animalia  Cardellina pusilla (A.Wilson, 1811)   SPECIES   \n",
            "\n",
            "         lat         lon country indivCount                     geometry  \n",
            "0  33.509734 -117.636464      US        NaN  POINT (33.50973 -117.63646)  \n",
            "1  34.226717 -119.029263      US        NaN  POINT (34.22672 -119.02926)  \n",
            "2  47.066143  -70.807540      CA        NaN   POINT (47.06614 -70.80754)  \n",
            "3  19.317608  -99.195668      MX        NaN   POINT (19.31761 -99.19567)  \n",
            "4  48.132745 -122.769377      US        NaN  POINT (48.13274 -122.76938)  \n"
          ]
        }
      ],
      "source": [
        "pa = gpd.GeoDataFrame(df_shp, \n",
        "    geometry = gpd.points_from_xy(df_shp['lat'], df_shp['lon']), \n",
        "    crs = 'EPSG:4326')\n",
        "\n",
        "# Inspect the first few rows\n",
        "print(pa.head())\n"
      ]
    },
    {
      "cell_type": "markdown",
      "metadata": {},
      "source": [
        "### 4. Removing duplicates and NaN\n",
        "\n",
        "We now check that there are no duplicate or `NaN` coordinates, as well as inspect the shapefile's attributes."
      ]
    },
    {
      "cell_type": "code",
      "execution_count": 35,
      "metadata": {},
      "outputs": [
        {
          "name": "stdout",
          "output_type": "stream",
          "text": [
            "number of duplicates:  1352940\n",
            "number of NA's:  0\n",
            "Coordinate reference system is: EPSG:4326\n",
            "1620779 observations with 11 columns\n"
          ]
        }
      ],
      "source": [
        "print(\"number of duplicates: \", pa.duplicated(subset='geometry', keep='first').sum())\n",
        "print(\"number of NA's: \", pa['geometry'].isna().sum())\n",
        "print(\"Coordinate reference system is: {}\".format(pa.crs))\n",
        "print(\"{} observations with {} columns\".format(*pa.shape))"
      ]
    },
    {
      "cell_type": "code",
      "execution_count": 36,
      "metadata": {
        "colab": {
          "base_uri": "https://localhost:8080/"
        },
        "id": "FJoPaa5iPZe6",
        "outputId": "bfadb090-599f-447c-a7f9-0a6f12ac3080"
      },
      "outputs": [],
      "source": [
        "# Remove duplicates based solely on the 'geometry' column\n",
        "species_distribution_unique = pa.drop_duplicates(subset=['geometry'])\n",
        "\n",
        "# Reset index after removing duplicates\n",
        "species_distribution_unique.reset_index(drop=True, inplace=True)\n"
      ]
    },
    {
      "cell_type": "code",
      "execution_count": 37,
      "metadata": {
        "colab": {
          "base_uri": "https://localhost:8080/"
        },
        "id": "E--rm3Bp2CpO",
        "outputId": "09e36c29-8641-47a6-d34e-29864dc91b29"
      },
      "outputs": [
        {
          "name": "stdout",
          "output_type": "stream",
          "text": [
            "number of duplicates:  0\n",
            "number of NA's:  0\n",
            "Coordinate reference system is: EPSG:4326\n",
            "267838 observations with 11 columns\n"
          ]
        }
      ],
      "source": [
        "print(\"number of duplicates: \", species_distribution_unique.duplicated(subset='geometry', keep='first').sum())\n",
        "print(\"number of NA's: \", species_distribution_unique['geometry'].isna().sum())\n",
        "print(\"Coordinate reference system is: {}\".format(species_distribution_unique.crs))\n",
        "print(\"{} observations with {} columns\".format(*species_distribution_unique.shape))\n"
      ]
    },
    {
      "cell_type": "markdown",
      "metadata": {},
      "source": [
        "#### 5. Export the trimmed shapefile\n",
        "\n",
        "We will import the shapefile to `inputs/` for SDM model "
      ]
    },
    {
      "cell_type": "code",
      "execution_count": 41,
      "metadata": {},
      "outputs": [],
      "source": [
        "# species_distribution_unique.to_csv(\"outputs/trimmed_CardellinaPusilla.csv\", sep='\\t')\n",
        "species_distribution_unique.to_file('data/CardellinaPusilla.shp', driver='ESRI Shapefile')"
      ]
    }
  ],
  "metadata": {
    "colab": {
      "provenance": []
    },
    "kernelspec": {
      "display_name": "Python 3",
      "name": "python3"
    },
    "language_info": {
      "codemirror_mode": {
        "name": "ipython",
        "version": 3
      },
      "file_extension": ".py",
      "mimetype": "text/x-python",
      "name": "python",
      "nbconvert_exporter": "python",
      "pygments_lexer": "ipython3",
      "version": "3.11.5"
    }
  },
  "nbformat": 4,
  "nbformat_minor": 0
}
