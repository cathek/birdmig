{
  "cells": [
    {
      "cell_type": "code",
      "execution_count": 3,
      "metadata": {
        "colab": {
          "base_uri": "https://localhost:8080/"
        },
        "id": "iYvAuReskJ81",
        "outputId": "33dcdf8b-f2fb-4e9b-de16-dd1a2810f1bb"
      },
      "outputs": [
        {
          "name": "stdout",
          "output_type": "stream",
          "text": [
            "Requirement already satisfied: geopandas in c:\\users\\marche\\anaconda3\\lib\\site-packages (0.14.3)\n",
            "Requirement already satisfied: rasterio in c:\\users\\marche\\anaconda3\\lib\\site-packages (1.3.9)\n",
            "Requirement already satisfied: matplotlib in c:\\users\\marche\\anaconda3\\lib\\site-packages (3.8.0)\n",
            "Requirement already satisfied: scikit-learn in c:\\users\\marche\\anaconda3\\lib\\site-packages (1.3.0)\n",
            "Requirement already satisfied: pandas in c:\\users\\marche\\anaconda3\\lib\\site-packages (2.1.1)\n",
            "Requirement already satisfied: pyimpute in c:\\users\\marche\\anaconda3\\lib\\site-packages (0.3)\n",
            "Requirement already satisfied: xgboost in c:\\users\\marche\\anaconda3\\lib\\site-packages (2.0.3)\n",
            "Requirement already satisfied: lightgbm in c:\\users\\marche\\anaconda3\\lib\\site-packages (4.3.0)\n",
            "Requirement already satisfied: fiona>=1.8.21 in c:\\users\\marche\\anaconda3\\lib\\site-packages (from geopandas) (1.9.5)\n",
            "Requirement already satisfied: packaging in c:\\users\\marche\\anaconda3\\lib\\site-packages (from geopandas) (23.1)\n",
            "Requirement already satisfied: pyproj>=3.3.0 in c:\\users\\marche\\anaconda3\\lib\\site-packages (from geopandas) (3.6.1)\n",
            "Requirement already satisfied: shapely>=1.8.0 in c:\\users\\marche\\anaconda3\\lib\\site-packages (from geopandas) (2.0.3)\n",
            "Requirement already satisfied: affine in c:\\users\\marche\\anaconda3\\lib\\site-packages (from rasterio) (2.4.0)\n",
            "Requirement already satisfied: attrs in c:\\users\\marche\\anaconda3\\lib\\site-packages (from rasterio) (23.1.0)\n",
            "Requirement already satisfied: certifi in c:\\users\\marche\\anaconda3\\lib\\site-packages (from rasterio) (2023.11.17)\n",
            "Requirement already satisfied: click>=4.0 in c:\\users\\marche\\anaconda3\\lib\\site-packages (from rasterio) (8.1.7)\n",
            "Requirement already satisfied: cligj>=0.5 in c:\\users\\marche\\anaconda3\\lib\\site-packages (from rasterio) (0.7.2)\n",
            "Requirement already satisfied: numpy in c:\\users\\marche\\anaconda3\\lib\\site-packages (from rasterio) (1.24.3)\n",
            "Requirement already satisfied: snuggs>=1.4.1 in c:\\users\\marche\\anaconda3\\lib\\site-packages (from rasterio) (1.4.7)\n",
            "Requirement already satisfied: click-plugins in c:\\users\\marche\\anaconda3\\lib\\site-packages (from rasterio) (1.1.1)\n",
            "Requirement already satisfied: setuptools in c:\\users\\marche\\anaconda3\\lib\\site-packages (from rasterio) (68.0.0)\n",
            "Requirement already satisfied: contourpy>=1.0.1 in c:\\users\\marche\\anaconda3\\lib\\site-packages (from matplotlib) (1.2.0)\n",
            "Requirement already satisfied: cycler>=0.10 in c:\\users\\marche\\anaconda3\\lib\\site-packages (from matplotlib) (0.11.0)\n",
            "Requirement already satisfied: fonttools>=4.22.0 in c:\\users\\marche\\anaconda3\\lib\\site-packages (from matplotlib) (4.25.0)\n",
            "Requirement already satisfied: kiwisolver>=1.0.1 in c:\\users\\marche\\anaconda3\\lib\\site-packages (from matplotlib) (1.4.4)\n",
            "Requirement already satisfied: pillow>=6.2.0 in c:\\users\\marche\\anaconda3\\lib\\site-packages (from matplotlib) (10.0.1)\n",
            "Requirement already satisfied: pyparsing>=2.3.1 in c:\\users\\marche\\anaconda3\\lib\\site-packages (from matplotlib) (3.0.9)\n",
            "Requirement already satisfied: python-dateutil>=2.7 in c:\\users\\marche\\anaconda3\\lib\\site-packages (from matplotlib) (2.8.2)\n",
            "Requirement already satisfied: scipy>=1.5.0 in c:\\users\\marche\\anaconda3\\lib\\site-packages (from scikit-learn) (1.11.4)\n",
            "Requirement already satisfied: joblib>=1.1.1 in c:\\users\\marche\\anaconda3\\lib\\site-packages (from scikit-learn) (1.2.0)\n",
            "Requirement already satisfied: threadpoolctl>=2.0.0 in c:\\users\\marche\\anaconda3\\lib\\site-packages (from scikit-learn) (2.2.0)\n",
            "Requirement already satisfied: pytz>=2020.1 in c:\\users\\marche\\anaconda3\\lib\\site-packages (from pandas) (2023.3.post1)\n",
            "Requirement already satisfied: tzdata>=2022.1 in c:\\users\\marche\\anaconda3\\lib\\site-packages (from pandas) (2023.3)\n",
            "Requirement already satisfied: rasterstats in c:\\users\\marche\\anaconda3\\lib\\site-packages (from pyimpute) (0.19.0)\n",
            "Requirement already satisfied: colorama in c:\\users\\marche\\anaconda3\\lib\\site-packages (from click>=4.0->rasterio) (0.4.6)\n",
            "Requirement already satisfied: six in c:\\users\\marche\\anaconda3\\lib\\site-packages (from fiona>=1.8.21->geopandas) (1.16.0)\n",
            "Requirement already satisfied: simplejson in c:\\users\\marche\\anaconda3\\lib\\site-packages (from rasterstats->pyimpute) (3.19.2)\n",
            "Note: you may need to restart the kernel to use updated packages.\n"
          ]
        }
      ],
      "source": [
        "%pip install geopandas rasterio matplotlib scikit-learn pandas pyimpute xgboost lightgbm"
      ]
    },
    {
      "cell_type": "markdown",
      "metadata": {
        "id": "BCaO8608TS5n"
      },
      "source": [
        "# Species Distribution Data Loading and Preprocessing"
      ]
    },
    {
      "cell_type": "markdown",
      "metadata": {
        "id": "NKa6uiiQ7CSa"
      },
      "source": [
        "### Load Species Distribution Data\n",
        "\n",
        "Please note if this cell is re-run, it will take a very long time to process again!"
      ]
    },
    {
      "cell_type": "markdown",
      "metadata": {
        "id": "_XGmIQa0qg0k"
      },
      "source": [
        "Preprocess the Data in chunks (to avoid running out of RAM)"
      ]
    },
    {
      "cell_type": "code",
      "execution_count": 42,
      "metadata": {
        "id": "gjFwX8E35whg"
      },
      "outputs": [
        {
          "name": "stderr",
          "output_type": "stream",
          "text": [
            "C:\\Users\\marche\\AppData\\Local\\Temp\\ipykernel_17876\\3293758763.py:9: DtypeWarning: Columns (10,14,19,23,24,25,39,40,41,43,45,46,48) have mixed types. Specify dtype option on import or set low_memory=False.\n",
            "  df = pd.read_csv(\"data/GBIF_CardellinaPusilla.csv\", sep='\\t', lineterminator='\\n')\n"
          ]
        }
      ],
      "source": [
        "import pandas as pd\n",
        "import geopandas as gpd\n",
        "from shapely.geometry import Point\n",
        "import os\n",
        "import tempfile\n",
        "\n",
        "# File is removed for github upload; download .zip from Box or Drive and rename to below with appropriate folder hierarchy\n",
        "# TODO: Save trimmed version of CSV and use that in github\n",
        "df = pd.read_csv(\"data/GBIF_CardellinaPusilla.csv\", sep='\\t', lineterminator='\\n')\n",
        "\n"
      ]
    },
    {
      "cell_type": "code",
      "execution_count": 31,
      "metadata": {
        "colab": {
          "base_uri": "https://localhost:8080/",
          "height": 616
        },
        "id": "oPRB27oUqRTF",
        "outputId": "7458c0d4-c8d2-497b-862b-a3b35892ab2b"
      },
      "outputs": [
        {
          "name": "stdout",
          "output_type": "stream",
          "text": [
            "                                        occurrenceID      basisOfRecord  \\\n",
            "0  https://www.inaturalist.org/observations/13947...  HUMAN_OBSERVATION   \n",
            "1  https://www.inaturalist.org/observations/10616...  HUMAN_OBSERVATION   \n",
            "2  https://www.inaturalist.org/observations/11843...  HUMAN_OBSERVATION   \n",
            "3  https://www.inaturalist.org/observations/34513725  HUMAN_OBSERVATION   \n",
            "4  https://www.inaturalist.org/observations/12732366  HUMAN_OBSERVATION   \n",
            "\n",
            "          eventDate   kingdom                       scientificName taxonRank  \\\n",
            "0  2022-09-28T12:24  Animalia  Cardellina pusilla (A.Wilson, 1811)   SPECIES   \n",
            "1  2021-09-30T12:45  Animalia  Cardellina pusilla (A.Wilson, 1811)   SPECIES   \n",
            "2  2022-05-23T20:54  Animalia  Cardellina pusilla (A.Wilson, 1811)   SPECIES   \n",
            "3  2019-09-21T10:58  Animalia  Cardellina pusilla (A.Wilson, 1811)   SPECIES   \n",
            "4  2018-05-20T08:13  Animalia  Cardellina pusilla (A.Wilson, 1811)   SPECIES   \n",
            "\n",
            "   decimalLatitude  decimalLongitude countryCode individualCount  \\\n",
            "0        33.509734       -117.636464          US             NaN   \n",
            "1        34.226717       -119.029263          US             NaN   \n",
            "2        47.066143        -70.807540          CA             NaN   \n",
            "3        19.317608        -99.195668          MX             NaN   \n",
            "4        48.132745       -122.769377          US             NaN   \n",
            "\n",
            "                      geometry  \n",
            "0  POINT (33.50973 -117.63646)  \n",
            "1  POINT (34.22672 -119.02926)  \n",
            "2   POINT (47.06614 -70.80754)  \n",
            "3   POINT (19.31761 -99.19567)  \n",
            "4  POINT (48.13274 -122.76938)  \n"
          ]
        }
      ],
      "source": [
        "# Load the GeoDataFrame from the GeoPackage file\n",
        "import geopandas as gpd\n",
        "\n",
        "pa = gpd.GeoDataFrame(df, \n",
        "    geometry = gpd.points_from_xy(df['decimalLatitude'], df['decimalLongitude']), \n",
        "    crs = 'EPSG:4326')\n",
        "\n",
        "# Inspect the first few rows\n",
        "print(gdf.head())\n"
      ]
    },
    {
      "cell_type": "markdown",
      "metadata": {},
      "source": [
        "### Removing duplicates and NaN\n",
        "\n",
        "We now check that there are no duplicate or `NaN` coordinates, as well as inspect the shapefile's attributes."
      ]
    },
    {
      "cell_type": "code",
      "execution_count": 32,
      "metadata": {},
      "outputs": [
        {
          "name": "stdout",
          "output_type": "stream",
          "text": [
            "number of duplicates:  1352941\n",
            "number of NA's:  0\n",
            "Coordinate reference system is: EPSG:4326\n",
            "1620779 observations with 11 columns\n"
          ]
        }
      ],
      "source": [
        "print(\"number of duplicates: \", pa.duplicated(subset='geometry', keep='first').sum())\n",
        "print(\"number of NA's: \", pa['geometry'].isna().sum())\n",
        "print(\"Coordinate reference system is: {}\".format(pa.crs))\n",
        "print(\"{} observations with {} columns\".format(*pa.shape))"
      ]
    },
    {
      "cell_type": "code",
      "execution_count": 33,
      "metadata": {
        "colab": {
          "base_uri": "https://localhost:8080/"
        },
        "id": "FJoPaa5iPZe6",
        "outputId": "bfadb090-599f-447c-a7f9-0a6f12ac3080"
      },
      "outputs": [],
      "source": [
        "# Remove duplicates based solely on the 'geometry' column\n",
        "species_distribution_unique = pa.drop_duplicates(subset=['geometry'])\n",
        "\n",
        "# Reset index after removing duplicates\n",
        "species_distribution_unique.reset_index(drop=True, inplace=True)\n"
      ]
    },
    {
      "cell_type": "code",
      "execution_count": 34,
      "metadata": {
        "colab": {
          "base_uri": "https://localhost:8080/"
        },
        "id": "E--rm3Bp2CpO",
        "outputId": "09e36c29-8641-47a6-d34e-29864dc91b29"
      },
      "outputs": [
        {
          "name": "stdout",
          "output_type": "stream",
          "text": [
            "number of duplicates:  0\n",
            "number of NA's:  0\n",
            "Coordinate reference system is: EPSG:4326\n",
            "267838 observations with 11 columns\n"
          ]
        }
      ],
      "source": [
        "print(\"number of duplicates: \", species_distribution_unique.duplicated(subset='geometry', keep='first').sum())\n",
        "print(\"number of NA's: \", species_distribution_unique['geometry'].isna().sum())\n",
        "print(\"Coordinate reference system is: {}\".format(species_distribution_unique.crs))\n",
        "print(\"{} observations with {} columns\".format(*species_distribution_unique.shape))\n"
      ]
    },
    {
      "cell_type": "markdown",
      "metadata": {},
      "source": [
        "#### Export the trimmed shapefile"
      ]
    },
    {
      "cell_type": "code",
      "execution_count": 40,
      "metadata": {},
      "outputs": [],
      "source": [
        "# species_distribution_unique.to_csv(\"outputs/trimmed_CardellinaPusilla.csv\", sep='\\t')\n",
        "species_distribution_unique.to_file('outputs/CardellinaPusilla.shp')  "
      ]
    },
    {
      "cell_type": "markdown",
      "metadata": {
        "id": "cSrftG_ETMF_"
      },
      "source": [
        "#Climate Data Loading and Preprocessing"
      ]
    },
    {
      "cell_type": "markdown",
      "metadata": {
        "id": "Y57cZlcR7Jgf"
      },
      "source": [
        "Load Climate Data"
      ]
    },
    {
      "cell_type": "code",
      "execution_count": null,
      "metadata": {
        "id": "lAfrlhkx2D8F"
      },
      "outputs": [],
      "source": [
        "import rasterio\n",
        "\n",
        "# Example for loading a single climate variable\n",
        "climate_variable_path = '/content/drive/My Drive/path_to_climate_variable.tif'\n",
        "with rasterio.open(climate_variable_path) as src:\n",
        "    climate_data = src.read(1)  # Reads the first band\n"
      ]
    },
    {
      "cell_type": "markdown",
      "metadata": {
        "id": "wfdMg3KA7QI5"
      },
      "source": [
        "Model Training and Assessment"
      ]
    },
    {
      "cell_type": "markdown",
      "metadata": {
        "id": "IkEXlg2PTlNf"
      },
      "source": []
    },
    {
      "cell_type": "code",
      "execution_count": null,
      "metadata": {
        "id": "eHHaCUp_7Tqi"
      },
      "outputs": [],
      "source": [
        "from pyimpute import load_training_vector, load_targets\n",
        "\n",
        "# Assuming 'raster_features' is a list of paths to your climate raster files\n",
        "train_xs, train_y = load_training_vector(species_distribution, raster_features, response_field='CLASS')\n"
      ]
    },
    {
      "cell_type": "markdown",
      "metadata": {
        "id": "QMrtZa-87YAD"
      },
      "source": [
        "Train ML Classifiers"
      ]
    },
    {
      "cell_type": "code",
      "execution_count": null,
      "metadata": {
        "id": "UCI7uK1C7XRC"
      },
      "outputs": [],
      "source": [
        "# import machine learning classifiers\n",
        "from sklearn.ensemble import RandomForestClassifier\n",
        "from sklearn.ensemble import ExtraTreesClassifier\n",
        "from xgboost import XGBClassifier\n",
        "from lightgbm import LGBMClassifier\n",
        "\n",
        "CLASS_MAP = {\n",
        "    'rf': (RandomForestClassifier()),\n",
        "    'et': (ExtraTreesClassifier()),\n",
        "    'xgb': (XGBClassifier()),\n",
        "    'lgbm': (LGBMClassifier())\n",
        "    }\n",
        "from pyimpute import impute\n",
        "from sklearn import model_selection\n",
        "# model fitting and spatial range prediction\n",
        "for name, (model) in CLASS_MAP.items():\n",
        "    # cross validation for accuracy scores (displayed as a percentage)\n",
        "    k = 5 # k-fold\n",
        "    kf = model_selection.KFold(n_splits=k)\n",
        "    accuracy_scores = model_selection.cross_val_score(model, train_xs, train_y, cv=kf, scoring='accuracy')\n",
        "    print(name + \" %d-fold Cross Validation Accuracy: %0.2f (+/- %0.2f)\"\n",
        "          % (k, accuracy_scores.mean() * 100, accuracy_scores.std() * 200))\n",
        "\n",
        "    # spatial prediction\n",
        "    model.fit(train_xs, train_y)\n",
        "    os.mkdir('outputs/' + name + '-images')\n",
        "    impute(target_xs, model, raster_info, outdir='outputs/' + name + '-images',\n",
        "           class_prob=True, certainty=True)"
      ]
    },
    {
      "cell_type": "markdown",
      "metadata": {
        "id": "bYZ_XW2X7dsq"
      },
      "source": [
        "Map Species–Environment Relationship"
      ]
    },
    {
      "cell_type": "code",
      "execution_count": null,
      "metadata": {
        "id": "CNiB9ANo7dSQ"
      },
      "outputs": [],
      "source": [
        "from pyimpute import impute\n",
        "\n",
        "# Prepare target raster grids for prediction\n",
        "target_xs, raster_info = load_targets(raster_features)\n",
        "impute(target_xs, model, raster_info, outdir='/content/drive/My Drive/outputs', class_prob=True)\n"
      ]
    },
    {
      "cell_type": "markdown",
      "metadata": {
        "id": "ek-bI6qC7hYd"
      },
      "source": [
        "Visualize Model Predictions"
      ]
    },
    {
      "cell_type": "code",
      "execution_count": null,
      "metadata": {
        "id": "nnOHYvfv7iEk"
      },
      "outputs": [],
      "source": [
        "import matplotlib.pyplot as plt\n",
        "\n",
        "# Example for visualizing one of the output probability maps\n",
        "with rasterio.open('/content/drive/My Drive/outputs/probability_1.0.tif') as src:\n",
        "    probability_map = src.read(1)\n",
        "\n",
        "plt.imshow(probability_map, cmap='viridis')\n",
        "plt.colorbar()\n",
        "plt.title('Predicted Species Distribution')\n",
        "plt.show()\n"
      ]
    }
  ],
  "metadata": {
    "colab": {
      "provenance": []
    },
    "kernelspec": {
      "display_name": "Python 3",
      "name": "python3"
    },
    "language_info": {
      "codemirror_mode": {
        "name": "ipython",
        "version": 3
      },
      "file_extension": ".py",
      "mimetype": "text/x-python",
      "name": "python",
      "nbconvert_exporter": "python",
      "pygments_lexer": "ipython3",
      "version": "3.11.5"
    }
  },
  "nbformat": 4,
  "nbformat_minor": 0
}
