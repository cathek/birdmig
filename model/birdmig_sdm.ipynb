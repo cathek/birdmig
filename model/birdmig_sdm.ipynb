{
  "cells": [
    {
      "cell_type": "code",
      "execution_count": 1,
      "metadata": {
        "colab": {
          "base_uri": "https://localhost:8080/"
        },
        "id": "iYvAuReskJ81",
        "outputId": "33dcdf8b-f2fb-4e9b-de16-dd1a2810f1bb"
      },
      "outputs": [
        {
          "name": "stdout",
          "output_type": "stream",
          "text": [
            "Requirement already satisfied: geopandas in c:\\users\\marche\\anaconda3\\lib\\site-packages (0.14.3)\n",
            "Requirement already satisfied: rasterio in c:\\users\\marche\\anaconda3\\lib\\site-packages (1.3.9)\n",
            "Requirement already satisfied: matplotlib in c:\\users\\marche\\anaconda3\\lib\\site-packages (3.8.0)\n",
            "Requirement already satisfied: scikit-learn in c:\\users\\marche\\anaconda3\\lib\\site-packages (1.3.0)\n",
            "Requirement already satisfied: pandas in c:\\users\\marche\\anaconda3\\lib\\site-packages (2.1.1)\n",
            "Requirement already satisfied: pyimpute in c:\\users\\marche\\anaconda3\\lib\\site-packages (0.3)\n",
            "Requirement already satisfied: xgboost in c:\\users\\marche\\anaconda3\\lib\\site-packages (2.0.3)\n",
            "Requirement already satisfied: lightgbm in c:\\users\\marche\\anaconda3\\lib\\site-packages (4.3.0)\n",
            "Requirement already satisfied: fiona>=1.8.21 in c:\\users\\marche\\anaconda3\\lib\\site-packages (from geopandas) (1.9.5)\n",
            "Requirement already satisfied: packaging in c:\\users\\marche\\anaconda3\\lib\\site-packages (from geopandas) (23.1)\n",
            "Requirement already satisfied: pyproj>=3.3.0 in c:\\users\\marche\\anaconda3\\lib\\site-packages (from geopandas) (3.6.1)\n",
            "Requirement already satisfied: shapely>=1.8.0 in c:\\users\\marche\\anaconda3\\lib\\site-packages (from geopandas) (2.0.3)\n",
            "Requirement already satisfied: affine in c:\\users\\marche\\anaconda3\\lib\\site-packages (from rasterio) (2.4.0)\n",
            "Requirement already satisfied: attrs in c:\\users\\marche\\anaconda3\\lib\\site-packages (from rasterio) (23.1.0)\n",
            "Requirement already satisfied: certifi in c:\\users\\marche\\anaconda3\\lib\\site-packages (from rasterio) (2023.11.17)\n",
            "Requirement already satisfied: click>=4.0 in c:\\users\\marche\\anaconda3\\lib\\site-packages (from rasterio) (8.1.7)\n",
            "Requirement already satisfied: cligj>=0.5 in c:\\users\\marche\\anaconda3\\lib\\site-packages (from rasterio) (0.7.2)\n",
            "Requirement already satisfied: numpy in c:\\users\\marche\\anaconda3\\lib\\site-packages (from rasterio) (1.24.3)\n",
            "Requirement already satisfied: snuggs>=1.4.1 in c:\\users\\marche\\anaconda3\\lib\\site-packages (from rasterio) (1.4.7)\n",
            "Requirement already satisfied: click-plugins in c:\\users\\marche\\anaconda3\\lib\\site-packages (from rasterio) (1.1.1)\n",
            "Requirement already satisfied: setuptools in c:\\users\\marche\\anaconda3\\lib\\site-packages (from rasterio) (68.0.0)\n",
            "Requirement already satisfied: contourpy>=1.0.1 in c:\\users\\marche\\anaconda3\\lib\\site-packages (from matplotlib) (1.2.0)\n",
            "Requirement already satisfied: cycler>=0.10 in c:\\users\\marche\\anaconda3\\lib\\site-packages (from matplotlib) (0.11.0)\n",
            "Requirement already satisfied: fonttools>=4.22.0 in c:\\users\\marche\\anaconda3\\lib\\site-packages (from matplotlib) (4.25.0)\n",
            "Requirement already satisfied: kiwisolver>=1.0.1 in c:\\users\\marche\\anaconda3\\lib\\site-packages (from matplotlib) (1.4.4)\n",
            "Requirement already satisfied: pillow>=6.2.0 in c:\\users\\marche\\anaconda3\\lib\\site-packages (from matplotlib) (10.0.1)\n",
            "Requirement already satisfied: pyparsing>=2.3.1 in c:\\users\\marche\\anaconda3\\lib\\site-packages (from matplotlib) (3.0.9)\n",
            "Requirement already satisfied: python-dateutil>=2.7 in c:\\users\\marche\\anaconda3\\lib\\site-packages (from matplotlib) (2.8.2)\n",
            "Requirement already satisfied: scipy>=1.5.0 in c:\\users\\marche\\anaconda3\\lib\\site-packages (from scikit-learn) (1.11.4)\n",
            "Requirement already satisfied: joblib>=1.1.1 in c:\\users\\marche\\anaconda3\\lib\\site-packages (from scikit-learn) (1.2.0)\n",
            "Requirement already satisfied: threadpoolctl>=2.0.0 in c:\\users\\marche\\anaconda3\\lib\\site-packages (from scikit-learn) (2.2.0)\n",
            "Requirement already satisfied: pytz>=2020.1 in c:\\users\\marche\\anaconda3\\lib\\site-packages (from pandas) (2023.3.post1)\n",
            "Requirement already satisfied: tzdata>=2022.1 in c:\\users\\marche\\anaconda3\\lib\\site-packages (from pandas) (2023.3)\n",
            "Requirement already satisfied: rasterstats in c:\\users\\marche\\anaconda3\\lib\\site-packages (from pyimpute) (0.19.0)\n",
            "Requirement already satisfied: colorama in c:\\users\\marche\\anaconda3\\lib\\site-packages (from click>=4.0->rasterio) (0.4.6)\n",
            "Requirement already satisfied: six in c:\\users\\marche\\anaconda3\\lib\\site-packages (from fiona>=1.8.21->geopandas) (1.16.0)\n",
            "Requirement already satisfied: simplejson in c:\\users\\marche\\anaconda3\\lib\\site-packages (from rasterstats->pyimpute) (3.19.2)\n",
            "Note: you may need to restart the kernel to use updated packages.\n"
          ]
        }
      ],
      "source": [
        "%pip install geopandas rasterio matplotlib scikit-learn pandas pyimpute xgboost lightgbm\n"
      ]
    },
    {
      "cell_type": "markdown",
      "metadata": {
        "id": "BCaO8608TS5n"
      },
      "source": [
        "# Species Distribution Data Loading"
      ]
    },
    {
      "cell_type": "code",
      "execution_count": 5,
      "metadata": {
        "colab": {
          "base_uri": "https://localhost:8080/"
        },
        "id": "a6GXnmGfaUzZ",
        "outputId": "20a1ac53-53d1-44b6-e713-1e5599b2ca1a"
      },
      "outputs": [],
      "source": [
        "import os \n",
        "os.mkdir(\"inputs\")\n",
        "os.mkdir(\"outputs\")"
      ]
    },
    {
      "cell_type": "code",
      "execution_count": 8,
      "metadata": {},
      "outputs": [
        {
          "data": {
            "text/html": [
              "<div>\n",
              "<style scoped>\n",
              "    .dataframe tbody tr th:only-of-type {\n",
              "        vertical-align: middle;\n",
              "    }\n",
              "\n",
              "    .dataframe tbody tr th {\n",
              "        vertical-align: top;\n",
              "    }\n",
              "\n",
              "    .dataframe thead th {\n",
              "        text-align: right;\n",
              "    }\n",
              "</style>\n",
              "<table border=\"1\" class=\"dataframe\">\n",
              "  <thead>\n",
              "    <tr style=\"text-align: right;\">\n",
              "      <th></th>\n",
              "      <th>eventDate</th>\n",
              "      <th>sciName</th>\n",
              "      <th>lat</th>\n",
              "      <th>lon</th>\n",
              "      <th>indivCount</th>\n",
              "      <th>geometry</th>\n",
              "    </tr>\n",
              "  </thead>\n",
              "  <tbody>\n",
              "    <tr>\n",
              "      <th>160597</th>\n",
              "      <td>1977-08-23</td>\n",
              "      <td>Cardellina pusilla (A.Wilson, 1811)</td>\n",
              "      <td>42.055890</td>\n",
              "      <td>-87.705880</td>\n",
              "      <td>2</td>\n",
              "      <td>POINT (42.05589 -87.70588)</td>\n",
              "    </tr>\n",
              "    <tr>\n",
              "      <th>26162</th>\n",
              "      <td>2022-05-23</td>\n",
              "      <td>Cardellina pusilla (A.Wilson, 1811)</td>\n",
              "      <td>40.836860</td>\n",
              "      <td>-119.336640</td>\n",
              "      <td>1</td>\n",
              "      <td>POINT (40.83686 -119.33664)</td>\n",
              "    </tr>\n",
              "    <tr>\n",
              "      <th>23600</th>\n",
              "      <td>2022-05-01</td>\n",
              "      <td>Cardellina pusilla (A.Wilson, 1811)</td>\n",
              "      <td>35.720463</td>\n",
              "      <td>-120.870285</td>\n",
              "      <td>2</td>\n",
              "      <td>POINT (35.72046 -120.87028)</td>\n",
              "    </tr>\n",
              "    <tr>\n",
              "      <th>158921</th>\n",
              "      <td>2020-04-14</td>\n",
              "      <td>Cardellina pusilla (A.Wilson, 1811)</td>\n",
              "      <td>14.638289</td>\n",
              "      <td>-90.576485</td>\n",
              "      <td>1</td>\n",
              "      <td>POINT (14.63829 -90.57649)</td>\n",
              "    </tr>\n",
              "    <tr>\n",
              "      <th>36773</th>\n",
              "      <td>2008-05-11</td>\n",
              "      <td>Cardellina pusilla (A.Wilson, 1811)</td>\n",
              "      <td>32.723286</td>\n",
              "      <td>-117.242060</td>\n",
              "      <td>2</td>\n",
              "      <td>POINT (32.72329 -117.24206)</td>\n",
              "    </tr>\n",
              "  </tbody>\n",
              "</table>\n",
              "</div>"
            ],
            "text/plain": [
              "         eventDate                              sciName        lat  \\\n",
              "160597  1977-08-23  Cardellina pusilla (A.Wilson, 1811)  42.055890   \n",
              "26162   2022-05-23  Cardellina pusilla (A.Wilson, 1811)  40.836860   \n",
              "23600   2022-05-01  Cardellina pusilla (A.Wilson, 1811)  35.720463   \n",
              "158921  2020-04-14  Cardellina pusilla (A.Wilson, 1811)  14.638289   \n",
              "36773   2008-05-11  Cardellina pusilla (A.Wilson, 1811)  32.723286   \n",
              "\n",
              "               lon indivCount                     geometry  \n",
              "160597  -87.705880          2   POINT (42.05589 -87.70588)  \n",
              "26162  -119.336640          1  POINT (40.83686 -119.33664)  \n",
              "23600  -120.870285          2  POINT (35.72046 -120.87028)  \n",
              "158921  -90.576485          1   POINT (14.63829 -90.57649)  \n",
              "36773  -117.242060          2  POINT (32.72329 -117.24206)  "
            ]
          },
          "execution_count": 8,
          "metadata": {},
          "output_type": "execute_result"
        }
      ],
      "source": [
        "import geopandas as gpd\n",
        "import shutil\n",
        "import glob\n",
        "\n",
        "for f in sorted(glob.glob('data/*[!.csv]')):\n",
        "    shutil.copy(f,'inputs/')\n",
        "\n",
        "pa = gpd.GeoDataFrame.from_file(\"inputs/CardellinaPusilla.shp\")\n",
        "pa.sample(5) # GeoDataFrame for the species"
      ]
    },
    {
      "cell_type": "markdown",
      "metadata": {
        "id": "cSrftG_ETMF_"
      },
      "source": [
        "# Climate Data Loading and Preprocessing"
      ]
    },
    {
      "cell_type": "markdown",
      "metadata": {
        "id": "Y57cZlcR7Jgf"
      },
      "source": [
        "Load Climate Data"
      ]
    },
    {
      "cell_type": "code",
      "execution_count": null,
      "metadata": {
        "id": "lAfrlhkx2D8F"
      },
      "outputs": [],
      "source": [
        "# grab climate features - cropped to joshua tree study area\n",
        "for f in sorted(glob.glob('data/bioclim/bclim*.asc')):\n",
        "    shutil.copy(f,'inputs/')\n",
        "raster_features = sorted(glob.glob(\n",
        "    'inputs/bclim*.asc'))\n",
        "# check number of features \n",
        "print('\\nThere are', len(raster_features), 'raster features.')\n"
      ]
    },
    {
      "cell_type": "markdown",
      "metadata": {
        "id": "wfdMg3KA7QI5"
      },
      "source": [
        "Model Training and Assessment"
      ]
    },
    {
      "cell_type": "markdown",
      "metadata": {
        "id": "IkEXlg2PTlNf"
      },
      "source": []
    },
    {
      "cell_type": "code",
      "execution_count": null,
      "metadata": {
        "id": "eHHaCUp_7Tqi"
      },
      "outputs": [],
      "source": [
        "from pyimpute import load_training_vector, load_targets\n",
        "\n",
        "# Assuming 'raster_features' is a list of paths to your climate raster files\n",
        "train_xs, train_y = load_training_vector(species_distribution, raster_features, response_field='CLASS')\n"
      ]
    },
    {
      "cell_type": "markdown",
      "metadata": {
        "id": "QMrtZa-87YAD"
      },
      "source": [
        "Train ML Classifiers"
      ]
    },
    {
      "cell_type": "code",
      "execution_count": null,
      "metadata": {
        "id": "UCI7uK1C7XRC"
      },
      "outputs": [],
      "source": [
        "# import machine learning classifiers\n",
        "from sklearn.ensemble import RandomForestClassifier\n",
        "from sklearn.ensemble import ExtraTreesClassifier\n",
        "from xgboost import XGBClassifier\n",
        "from lightgbm import LGBMClassifier\n",
        "\n",
        "CLASS_MAP = {\n",
        "    'rf': (RandomForestClassifier()),\n",
        "    'et': (ExtraTreesClassifier()),\n",
        "    'xgb': (XGBClassifier()),\n",
        "    'lgbm': (LGBMClassifier())\n",
        "    }\n",
        "from pyimpute import impute\n",
        "from sklearn import model_selection\n",
        "# model fitting and spatial range prediction\n",
        "for name, (model) in CLASS_MAP.items():\n",
        "    # cross validation for accuracy scores (displayed as a percentage)\n",
        "    k = 5 # k-fold\n",
        "    kf = model_selection.KFold(n_splits=k)\n",
        "    accuracy_scores = model_selection.cross_val_score(model, train_xs, train_y, cv=kf, scoring='accuracy')\n",
        "    print(name + \" %d-fold Cross Validation Accuracy: %0.2f (+/- %0.2f)\"\n",
        "          % (k, accuracy_scores.mean() * 100, accuracy_scores.std() * 200))\n",
        "\n",
        "    # spatial prediction\n",
        "    model.fit(train_xs, train_y)\n",
        "    os.mkdir('outputs/' + name + '-images')\n",
        "    impute(target_xs, model, raster_info, outdir='outputs/' + name + '-images',\n",
        "           class_prob=True, certainty=True)"
      ]
    },
    {
      "cell_type": "markdown",
      "metadata": {
        "id": "bYZ_XW2X7dsq"
      },
      "source": [
        "Map Species–Environment Relationship"
      ]
    },
    {
      "cell_type": "code",
      "execution_count": null,
      "metadata": {
        "id": "CNiB9ANo7dSQ"
      },
      "outputs": [],
      "source": [
        "from pyimpute import impute\n",
        "\n",
        "# Prepare target raster grids for prediction\n",
        "target_xs, raster_info = load_targets(raster_features)\n",
        "impute(target_xs, model, raster_info, outdir='/content/drive/My Drive/outputs', class_prob=True)\n"
      ]
    },
    {
      "cell_type": "markdown",
      "metadata": {
        "id": "ek-bI6qC7hYd"
      },
      "source": [
        "Visualize Model Predictions"
      ]
    },
    {
      "cell_type": "code",
      "execution_count": null,
      "metadata": {
        "id": "nnOHYvfv7iEk"
      },
      "outputs": [],
      "source": [
        "import matplotlib.pyplot as plt\n",
        "\n",
        "# Example for visualizing one of the output probability maps\n",
        "with rasterio.open('/content/drive/My Drive/outputs/probability_1.0.tif') as src:\n",
        "    probability_map = src.read(1)\n",
        "\n",
        "plt.imshow(probability_map, cmap='viridis')\n",
        "plt.colorbar()\n",
        "plt.title('Predicted Species Distribution')\n",
        "plt.show()\n"
      ]
    }
  ],
  "metadata": {
    "colab": {
      "provenance": []
    },
    "kernelspec": {
      "display_name": "Python 3",
      "name": "python3"
    },
    "language_info": {
      "codemirror_mode": {
        "name": "ipython",
        "version": 3
      },
      "file_extension": ".py",
      "mimetype": "text/x-python",
      "name": "python",
      "nbconvert_exporter": "python",
      "pygments_lexer": "ipython3",
      "version": "3.11.5"
    }
  },
  "nbformat": 4,
  "nbformat_minor": 0
}
